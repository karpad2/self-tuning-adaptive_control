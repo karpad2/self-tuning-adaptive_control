{
  "nbformat": 4,
  "nbformat_minor": 0,
  "metadata": {
    "colab": {
      "name": "Adaptív szabályozás ~ Self tuning Módszer",
      "provenance": [],
      "authorship_tag": "ABX9TyOavRFlXCpN5GyV+vyAqT0v",
      "include_colab_link": true
    },
    "kernelspec": {
      "name": "python3",
      "display_name": "Python 3"
    }
  },
  "cells": [
    {
      "cell_type": "markdown",
      "metadata": {
        "id": "view-in-github",
        "colab_type": "text"
      },
      "source": [
        "<a href=\"https://colab.research.google.com/github/karpad2/self-turning-adaptive_control/blob/main/Adapt%C3%ADv_szab%C3%A1lyoz%C3%A1s_~_Self_tuning_M%C3%B3dszer.ipynb\" target=\"_parent\"><img src=\"https://colab.research.google.com/assets/colab-badge.svg\" alt=\"Open In Colab\"/></a>"
      ]
    },
    {
      "cell_type": "code",
      "metadata": {
        "id": "3g_hlEw9U3cg"
      },
      "source": [
        ""
      ],
      "execution_count": null,
      "outputs": []
    }
  ]
}